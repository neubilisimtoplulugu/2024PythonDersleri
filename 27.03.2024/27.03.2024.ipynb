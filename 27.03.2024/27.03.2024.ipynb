{
 "cells": [
  {
   "cell_type": "code",
   "execution_count": 2,
   "metadata": {},
   "outputs": [
    {
     "ename": "TypeError",
     "evalue": "'>' not supported between instances of 'str' and 'int'",
     "output_type": "error",
     "traceback": [
      "\u001b[1;31m---------------------------------------------------------------------------\u001b[0m",
      "\u001b[1;31mTypeError\u001b[0m                                 Traceback (most recent call last)",
      "Cell \u001b[1;32mIn[2], line 2\u001b[0m\n\u001b[0;32m      1\u001b[0m tuple_1 \u001b[38;5;241m=\u001b[39m (\u001b[38;5;241m1120\u001b[39m, \u001b[38;5;124m'\u001b[39m\u001b[38;5;124ma\u001b[39m\u001b[38;5;124m'\u001b[39m)\n\u001b[1;32m----> 2\u001b[0m \u001b[38;5;28mprint\u001b[39m(\u001b[38;5;28;43mmax\u001b[39;49m\u001b[43m(\u001b[49m\u001b[43mtuple_1\u001b[49m\u001b[43m)\u001b[49m)\n",
      "\u001b[1;31mTypeError\u001b[0m: '>' not supported between instances of 'str' and 'int'"
     ]
    }
   ],
   "source": [
    "tuple_1 = (1120, 'a')\n",
    "print(max(tuple_1))"
   ]
  },
  {
   "cell_type": "code",
   "execution_count": 8,
   "metadata": {},
   "outputs": [
    {
     "data": {
      "text/plain": [
       "42"
      ]
     },
     "execution_count": 8,
     "metadata": {},
     "output_type": "execute_result"
    }
   ],
   "source": [
    "Neu = (\"NEU\", [10, 42, 30], (8, 12, 18))\n",
    "Neu[1][1]"
   ]
  },
  {
   "cell_type": "code",
   "execution_count": 10,
   "metadata": {},
   "outputs": [
    {
     "name": "stdout",
     "output_type": "stream",
     "text": [
      "NEÜ-Bilişim_Topluluğu\n"
     ]
    }
   ],
   "source": [
    "a = [\"NEÜ\", \"Bilişim_Topluluğu\"]\n",
    "print(\"-\".join(a))\n"
   ]
  },
  {
   "cell_type": "code",
   "execution_count": 12,
   "metadata": {},
   "outputs": [
    {
     "name": "stdout",
     "output_type": "stream",
     "text": [
      "[5, 2, 3, 4]\n",
      "[5, 2, 3, 4, 6]\n",
      "[5, 3, 4, 6]\n"
     ]
    }
   ],
   "source": [
    "# Is list mutabled in Python?\n",
    "# Python'da liste değiştirilebilir mi?\n",
    "# Evet, Pythonda listeler mutabledır. Örneğin;\n",
    "my_list = [1, 2, 3, 4]\n",
    "my_list[0] = 5 \n",
    "print(my_list)  \n",
    "\n",
    "my_list.append(6) \n",
    "print(my_list)  \n",
    "\n",
    "my_list.remove(2) \n",
    "print(my_list)  \n"
   ]
  },
  {
   "cell_type": "code",
   "execution_count": 14,
   "metadata": {},
   "outputs": [],
   "source": [
    "# \"Python dilinde Sözlük (dictionary) anahtarları (keys) değiştirilemez (immutabledır)\" ifadesi doğru mudur?\n",
    "# Doğru, Pythonda sözlük anahtarları immutabledır."
   ]
  },
  {
   "cell_type": "code",
   "execution_count": 15,
   "metadata": {},
   "outputs": [
    {
     "data": {
      "text/plain": [
       "96"
      ]
     },
     "execution_count": 15,
     "metadata": {},
     "output_type": "execute_result"
    }
   ],
   "source": [
    "sampleDict = { \n",
    "   \"class\":{ \n",
    "      \"student\":{ \n",
    "         \"name\":\"Sema\",\n",
    "         \"marks\":{ \n",
    "            \"AVP-2\":96,\n",
    "            \"Bilgisayar_Aglari\":80\n",
    "         }\n",
    "      }\n",
    "   }\n",
    "}\n",
    "sampleDict['class']['student']['marks']['AVP-2']"
   ]
  },
  {
   "cell_type": "code",
   "execution_count": 19,
   "metadata": {},
   "outputs": [
    {
     "data": {
      "text/plain": [
       "{'class': {'student': [{'name': 'Sema',\n",
       "    'marks': {'AVP-2': 96, 'Bilgisayar_Ağları': 80}},\n",
       "   {'name': 'Sena', 'marks': {'AVP-2': 100, 'Bilgisayar_Ağları': 85}}]}}"
      ]
     },
     "execution_count": 19,
     "metadata": {},
     "output_type": "execute_result"
    }
   ],
   "source": [
    "sampleDict = { \n",
    "   \"class\":{ \n",
    "      \"student\": [\n",
    "         {\n",
    "            \"name\": \"Sema\",\n",
    "            \"marks\":{ \n",
    "               \"AVP-2\": 96,\n",
    "               \"Bilgisayar_Ağları\": 80\n",
    "            }\n",
    "         },\n",
    "          {\n",
    "            \"name\": \"Sena\",\n",
    "            \"marks\":{ \n",
    "               \"AVP-2\": 95,\n",
    "               \"Bilgisayar_Ağları\": 85\n",
    "            }\n",
    "         },\n",
    "      ]\n",
    "   }\n",
    "}\n",
    "\n",
    "sampleDict[\"class\"][\"student\"][1][\"marks\"][\"AVP-2\"] = 100\n",
    "sampleDict"
   ]
  },
  {
   "cell_type": "code",
   "execution_count": 30,
   "metadata": {},
   "outputs": [
    {
     "name": "stdout",
     "output_type": "stream",
     "text": [
      "1739817382272\n",
      "1739810569664\n",
      "True\n",
      "False\n"
     ]
    }
   ],
   "source": [
    "dict1 = {\"key1\":1, \"key2\":2}\n",
    "dict2 = {\"key2\":2, \"key1\":1}\n",
    "print(id(dict1))\n",
    "print(id(dict2))\n",
    "print(dict1 == dict2)\n",
    "print(dict1 is dict2)\n",
    "\n"
   ]
  },
  {
   "cell_type": "code",
   "execution_count": 33,
   "metadata": {},
   "outputs": [
    {
     "name": "stdout",
     "output_type": "stream",
     "text": [
      "253 252\n"
     ]
    }
   ],
   "source": [
    "import math\n",
    "print(math.ceil(252.4), end=\" \")\n",
    "print(math.floor(252.4))\n"
   ]
  },
  {
   "cell_type": "code",
   "execution_count": 36,
   "metadata": {},
   "outputs": [
    {
     "name": "stdout",
     "output_type": "stream",
     "text": [
      "is"
     ]
    }
   ],
   "source": [
    "words = [\"is\", \"was\", \"this\", \"that\", \"at\"]\n",
    "for item in words:\n",
    "    if(len(item) > 2):\n",
    "        continue\n",
    "    else:\n",
    "        print(item, end= \"\")\n",
    "        break\n",
    "else:\n",
    "    print(\"as\")"
   ]
  },
  {
   "cell_type": "code",
   "execution_count": 43,
   "metadata": {},
   "outputs": [
    {
     "name": "stdout",
     "output_type": "stream",
     "text": [
      "Onaylandı\n",
      "gecerli: 3\n",
      "gecersiz: 2\n"
     ]
    }
   ],
   "source": [
    "ogeler = [1, -1, 3, 4, -5]\n",
    "\n",
    "gecerli = 0\n",
    "gecersiz = 0\n",
    "\n",
    "for i in ogeler:\n",
    "    if(i > 0):\n",
    "        gecerli = gecerli + 1\n",
    "    else:\n",
    "        gecersiz = gecersiz + 1\n",
    "else:\n",
    "    print(\"Onaylandı\")\n",
    "\n",
    "print(\"gecerli: \" + str(gecerli))\n",
    "print(\"gecersiz: \" + str(gecersiz))\n"
   ]
  },
  {
   "cell_type": "code",
   "execution_count": null,
   "metadata": {},
   "outputs": [],
   "source": []
  }
 ],
 "metadata": {
  "kernelspec": {
   "display_name": "Python 3",
   "language": "python",
   "name": "python3"
  },
  "language_info": {
   "codemirror_mode": {
    "name": "ipython",
    "version": 3
   },
   "file_extension": ".py",
   "mimetype": "text/x-python",
   "name": "python",
   "nbconvert_exporter": "python",
   "pygments_lexer": "ipython3",
   "version": "3.11.5"
  }
 },
 "nbformat": 4,
 "nbformat_minor": 2
}
